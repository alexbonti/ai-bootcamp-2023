{
 "cells": [
  {
   "cell_type": "markdown",
   "metadata": {
    "pycharm": {
     "name": "#%% md\n"
    }
   },
   "source": [
    "![image](https://raw.githubusercontent.com/IBM/watson-machine-learning-samples/master/cloud/notebooks/headers/watsonx-Prompt_Lab-Notebook.png)\n",
    "# Use watsonx  `meta-llama/llama-2-70b-chat` and `ibm/granite-13b-instruct-v1` to analyze car rental customer satisfaction from text"
   ]
  },
  {
   "cell_type": "markdown",
   "metadata": {
    "pycharm": {
     "name": "#%% md\n"
    }
   },
   "source": [
    "#### Disclaimers\n",
    "\n",
    "- Use only Projects and Spaces that are available in watsonx context.\n",
    "- กรุณาใช้ Projects และข้อมูล ที่เตรียมไว้ให้ใน watsonx\n",
    "\n",
    "\n",
    "## Notebook content\n",
    "\n",
    "This notebook contains the steps and code to demonstrate support of text sentiment analysis in Watsonx. It introduces commands for data retrieval, model testing and scoring.\n",
    "\n",
    "แบบฝึกหัดนี้ประกอบไปด้วยโค้ดและขั้นตอนการใช้งาน WatsonX เพื่อการทำ sentiment analysis\n",
    "มีการสอนใช้ คำสั่งเพื่อการ ดึงเดต้า เทสโมเดล และการให้คะแนนโมเดล \n",
    "\n",
    "Some familiarity with Python is helpful. This notebook uses Python 3.10.\n",
    "แบบฝึกหัดนี้ใช้ Python 3.10 เหมาะสำหรับผู้มีพื้นฐาน Python\n",
    "\n",
    "## Learning goal\n",
    "\n",
    "The goal of this notebook is to demonstrate how to use `meta-llama/llama-2-70b-chat` and  `ibm/granite-13b-instruct-v1` model to analyze customer satisfaction from text.\n",
    "\n",
    "เป้าหมายของแบบฝึกหัดนี้คือ เพื่อสาธิตวิธีการใช้โมเดล `meta-llama/llama-2-70b-chat` และ `ibm/granite-13b-instruct-v1` เพื่อวิเคราะห์ความพึงพอใจของลูกค้าจากข้อความ\n",
    "\n",
    "## Contents\n",
    "\n",
    "This notebook contains the following parts:\n",
    "แบบฝึกหัดนี้ประกอบไปด้วย:\n",
    "\n",
    "- [Setup](#setup)\n",
    "- [Data loading](#data)\n",
    "- [Foundation Models on Watsonx](#models)\n",
    "- [Model testing](#predict)\n",
    "- [Score](#score)\n",
    "- [Summary](#summary)"
   ]
  },
  {
   "cell_type": "markdown",
   "metadata": {
    "pycharm": {
     "name": "#%% md\n"
    }
   },
   "source": [
    "<a id=\"setup\"></a>\n",
    "## Set up the environment\n",
    "\n",
    "Before you use the sample code in this notebook, you must perform the following setup tasks:\n",
    "\n",
    "ก่อนที่ทุกท่านจะเริ่มทำแบบฝึกหัดนี้ กรุณาทำการติดตั้ง ตามวิธีการนี้ก่อน:\n",
    "\n",
    "\n",
    "-  Create a <a href=\"https://console.ng.bluemix.net/catalog/services/ibm-watson-machine-learning/\" target=\"_blank\" rel=\"noopener no referrer\">Watson Machine Learning (WML) Service</a> instance (a free plan is offered and information about how to create the instance can be found <a href=\"https://dataplatform.cloud.ibm.com/docs/content/wsj/analyze-data/ml-service-instance.html?context=analytics\" target=\"_blank\" rel=\"noopener no referrer\">here</a>).\n",
    "\n",
    "\n",
    "-  สร้าง <a href=\"https://console.ng.bluemix.net/catalog/services/ibm-watson-machine-learning/\" target=\"_blank\" rel=\"noopener no referrer\">Watson Machine Learning (WML) Service</a> instance (สามารถใช้แบบไม่มีค่าใช้จ่าย และรายละเอียด การติดตั้งเป็นดังนี้ <a href=\"https://dataplatform.cloud.ibm.com/docs/content/wsj/analyze-data/ml-service-instance.html?context=analytics\" target=\"_blank\" rel=\"noopener no referrer\">ข้อมูลเพิ่มเติม</a>).\n"
   ]
  },
  {
   "cell_type": "markdown",
   "metadata": {
    "pycharm": {
     "name": "#%% md\n"
    }
   },
   "source": [
    "### Install and import the `datasets` and dependecies\n",
    "### ดาวน์โหลด `datasets` และติดตั้งแพคเกจที่เกี่ยวข้อง"
   ]
  },
  {
   "cell_type": "code",
   "execution_count": 20,
   "metadata": {
    "pycharm": {
     "is_executing": true,
     "name": "#%%\n"
    }
   },
   "outputs": [
    {
     "name": "stdout",
     "output_type": "stream",
     "text": [
      "Requirement already satisfied: wget in /Users/kandanai/anaconda3/envs/incubation-b1/lib/python3.11/site-packages (3.2)\n",
      "Note: you may need to restart the kernel to use updated packages.\n",
      "Requirement already satisfied: six>=1.5 in /Users/kandanai/anaconda3/envs/incubation-b1/lib/python3.11/site-packages (from python-dateutil>=2.8.1->pandas->datasets) (1.16.0)\n",
      "Note: you may need to restart the kernel to use updated packages.\n",
      "Requirement already satisfied: threadpoolctl>=2.0.0 in /Users/kandanai/anaconda3/envs/incubation-b1/lib/python3.11/site-packages (from scikit-learn) (3.2.0)\n",
      "Note: you may need to restart the kernel to use updated packages.\n",
      "Requirement already satisfied: six>=1.10.0 in /Users/kandanai/anaconda3/envs/incubation-b1/lib/python3.11/site-packages (from lomond->ibm-watson-machine-learning>=1.0.326) (1.16.0)\n",
      "Note: you may need to restart the kernel to use updated packages.\n"
     ]
    }
   ],
   "source": [
    "%pip install wget | tail -n 1\n",
    "%pip install datasets | tail -n 1\n",
    "%pip install scikit-learn | tail -n 1\n",
    "%pip install \"ibm-watson-machine-learning>=1.0.326\" | tail -n 1"
   ]
  },
  {
   "cell_type": "markdown",
   "metadata": {
    "pycharm": {
     "name": "#%% md\n"
    }
   },
   "source": [
    "### Defining the WML credentials\n",
    "This cell defines the WML credentials required to work with watsonx Foundation Model inferencing.\n",
    "\n",
    "ขั้นตอนต่อไปนี้จะเป็นการระบุ credentials ที่จำเป็นต้องใช้ในการ ใช้งาน watsonx Foundation Model\n",
    "\n",
    "**Action:** Provide the IBM Cloud user API key. For details, see\n",
    "[documentation](https://cloud.ibm.com/docs/account?topic=account-userapikey&interface=ui).\n",
    "\n",
    "**Action:** กรอกข้อมูล IBM cloud user API key รายละเอียดและวิธีการอยู่ข้างล่าางนี้\n",
    "[documentation](https://cloud.ibm.com/docs/account?topic=account-userapikey&interface=ui)."
   ]
  },
  {
   "cell_type": "code",
   "execution_count": 21,
   "metadata": {
    "pycharm": {
     "name": "#%%\n"
    }
   },
   "outputs": [],
   "source": [
    "import os\n",
    "import json\n",
    "from dotenv import load_dotenv\n",
    "from ibm_watson_machine_learning.foundation_models import Model\n",
    "from ibm_watson_machine_learning.metanames import GenTextParamsMetaNames as GenParams"
   ]
  },
  {
   "cell_type": "markdown",
   "metadata": {
    "pycharm": {
     "name": "#%% md\n"
    }
   },
   "source": [
    "### Defining the project id\n",
    "The Foundation Model requires project id that provides the context for the call. We will obtain the id from the project in which this notebook runs. Otherwise, please provide the project id.\n",
    "\n",
    "\n",
    "กำหนด project id เพื่อให้สามารถเชื่อมต่อแบบฝึกหนัดนี้ไปหา watsonx ได้อย่างถูกต้อง"
   ]
  },
  {
   "cell_type": "code",
   "execution_count": 22,
   "metadata": {},
   "outputs": [],
   "source": [
    "#config Watsonx.ai environment\n",
    "load_dotenv()\n",
    "project_id = os.environ[\"PROJECT_ID\"]\n",
    "ibm_cloud_url = os.environ[\"IBM_CLOUD_URL\"]\n",
    "api_key = os.environ[\"API_KEY\"]\n"
   ]
  },
  {
   "cell_type": "code",
   "execution_count": 23,
   "metadata": {},
   "outputs": [],
   "source": [
    "#config Watsonx.ai environment\n",
    "\n",
    "if api_key is None or ibm_cloud_url is None or project_id is None:\n",
    "    raise Exception(\"Ensure you copied the .env file that you created earlier into the same directory as this notebook\")\n",
    "else:\n",
    "    credentials = {\n",
    "        \"url\": ibm_cloud_url,\n",
    "        \"apikey\": api_key \n",
    "    }"
   ]
  },
  {
   "cell_type": "markdown",
   "metadata": {
    "pycharm": {
     "name": "#%% md\n"
    }
   },
   "source": [
    "<a id=\"data\"></a>\n",
    "## Data loading"
   ]
  },
  {
   "cell_type": "markdown",
   "metadata": {
    "pycharm": {
     "name": "#%% md\n"
    }
   },
   "source": [
    "Download the `car_rental_training_data` dataset. The dataset provides insight about customers opinions on car rental. It has a label that consists of values: unsatisfied, satisfied.\n",
    "\n",
    "ดาวน์โหลดชุดข้อมูล `car_rental_training_data` ชุดข้อมูลนี้ให้ข้อมูลความคิดเห็นของลูกค้าเกี่ยวกับการเช่ารถ มีข้อมูลป้ายกำกับที่ประกอบด้วยค่า: ไม่พอใจ, พอใจ.\n"
   ]
  },
  {
   "cell_type": "code",
   "execution_count": 24,
   "metadata": {
    "pycharm": {
     "name": "#%%\n"
    }
   },
   "outputs": [],
   "source": [
    "import wget\n",
    "import pandas as pd\n",
    "\n",
    "filename = 'car_rental_training_data.csv'\n",
    "url = 'https://raw.githubusercontent.com/IBM/watson-machine-learning-samples/master/cloud/data/cars-4-you/car_rental_training_data.csv'\n",
    "\n",
    "if not os.path.isfile(filename): \n",
    "    wget.download(url, out=filename)\n",
    "\n",
    "df = pd.read_csv(\"car_rental_training_data.csv\", sep=';')\n",
    "data = df[['Customer_Service', 'Satisfaction']]"
   ]
  },
  {
   "cell_type": "markdown",
   "metadata": {
    "pycharm": {
     "name": "#%% md\n"
    }
   },
   "source": [
    "Examine downloaded data."
   ]
  },
  {
   "cell_type": "code",
   "execution_count": 25,
   "metadata": {
    "pycharm": {
     "name": "#%%\n"
    }
   },
   "outputs": [
    {
     "data": {
      "text/html": [
       "<div>\n",
       "<style scoped>\n",
       "    .dataframe tbody tr th:only-of-type {\n",
       "        vertical-align: middle;\n",
       "    }\n",
       "\n",
       "    .dataframe tbody tr th {\n",
       "        vertical-align: top;\n",
       "    }\n",
       "\n",
       "    .dataframe thead th {\n",
       "        text-align: right;\n",
       "    }\n",
       "</style>\n",
       "<table border=\"1\" class=\"dataframe\">\n",
       "  <thead>\n",
       "    <tr style=\"text-align: right;\">\n",
       "      <th></th>\n",
       "      <th>Customer_Service</th>\n",
       "      <th>Satisfaction</th>\n",
       "    </tr>\n",
       "  </thead>\n",
       "  <tbody>\n",
       "    <tr>\n",
       "      <th>0</th>\n",
       "      <td>I thought the representative handled the initi...</td>\n",
       "      <td>0</td>\n",
       "    </tr>\n",
       "    <tr>\n",
       "      <th>1</th>\n",
       "      <td>I have had a few recent rentals that have take...</td>\n",
       "      <td>0</td>\n",
       "    </tr>\n",
       "    <tr>\n",
       "      <th>2</th>\n",
       "      <td>car cost more because I didn't pay when I rese...</td>\n",
       "      <td>0</td>\n",
       "    </tr>\n",
       "    <tr>\n",
       "      <th>3</th>\n",
       "      <td>I didn't get the car I was told would be avail...</td>\n",
       "      <td>0</td>\n",
       "    </tr>\n",
       "    <tr>\n",
       "      <th>4</th>\n",
       "      <td>If there was not a desired vehicle available t...</td>\n",
       "      <td>1</td>\n",
       "    </tr>\n",
       "  </tbody>\n",
       "</table>\n",
       "</div>"
      ],
      "text/plain": [
       "                                    Customer_Service  Satisfaction\n",
       "0  I thought the representative handled the initi...             0\n",
       "1  I have had a few recent rentals that have take...             0\n",
       "2  car cost more because I didn't pay when I rese...             0\n",
       "3  I didn't get the car I was told would be avail...             0\n",
       "4  If there was not a desired vehicle available t...             1"
      ]
     },
     "execution_count": 25,
     "metadata": {},
     "output_type": "execute_result"
    }
   ],
   "source": [
    "data.head()"
   ]
  },
  {
   "cell_type": "markdown",
   "metadata": {
    "pycharm": {
     "name": "#%% md\n"
    }
   },
   "source": [
    "Prepare train and test sets."
   ]
  },
  {
   "cell_type": "code",
   "execution_count": 55,
   "metadata": {
    "pycharm": {
     "name": "#%%\n"
    }
   },
   "outputs": [],
   "source": [
    "from sklearn.model_selection import train_test_split\n",
    "\n",
    "train, test = train_test_split(data, test_size=0.2)\n",
    "comments = list(test.Customer_Service)\n",
    "satisfaction = list(test.Satisfaction)"
   ]
  },
  {
   "cell_type": "markdown",
   "metadata": {
    "pycharm": {
     "name": "#%% md\n"
    }
   },
   "source": [
    "<a id=\"models\"></a>\n",
    "## Foundation Models on `watsonx.ai`"
   ]
  },
  {
   "cell_type": "markdown",
   "metadata": {
    "pycharm": {
     "name": "#%% md\n"
    }
   },
   "source": [
    "#### List available models\n",
    "\n",
    "All avaliable models are presented under ModelTypes class.\n",
    "For more information refer to [documentation](https://ibm.github.io/watson-machine-learning-sdk/foundation_models.html#ibm_watson_machine_learning.foundation_models.utils.enums.ModelTypes).\n",
    "\n",
    "Model ประเภท LLM ทั้งหมด สามารถดูได้จาก ModelTypes\n",
    "สามารถค้นหาข้อมูลเพิ่มเติมได้จาก [documentation](https://ibm.github.io/watson-machine-learning-sdk/foundation_models.html#ibm_watson_machine_learning.foundation_models.utils.enums.ModelTypes).\n"
   ]
  },
  {
   "cell_type": "code",
   "execution_count": 56,
   "metadata": {
    "pycharm": {
     "name": "#%%\n"
    }
   },
   "outputs": [
    {
     "name": "stdout",
     "output_type": "stream",
     "text": [
      "['FLAN_T5_XXL', 'FLAN_UL2', 'MT0_XXL', 'GPT_NEOX', 'MPT_7B_INSTRUCT2', 'STARCODER', 'LLAMA_2_70B_CHAT', 'GRANITE_13B_INSTRUCT', 'GRANITE_13B_CHAT']\n"
     ]
    }
   ],
   "source": [
    "from ibm_watson_machine_learning.foundation_models.utils.enums import ModelTypes\n",
    "\n",
    "print([model.name for model in ModelTypes])"
   ]
  },
  {
   "cell_type": "markdown",
   "metadata": {
    "pycharm": {
     "name": "#%% md\n"
    }
   },
   "source": [
    "You need to specify `model_id` that will be used for inferencing:\n",
    "\n",
    "ในการให้ LLM ทำงานนั้น เราเลือก `model_id` ที่เราต้องการจะใช้มัน:"
   ]
  },
  {
   "cell_type": "code",
   "execution_count": 57,
   "metadata": {
    "pycharm": {
     "name": "#%%\n"
    }
   },
   "outputs": [],
   "source": [
    "model_id = ModelTypes.GRANITE_13B_CHAT"
   ]
  },
  {
   "cell_type": "markdown",
   "metadata": {
    "pycharm": {
     "name": "#%% md\n"
    }
   },
   "source": [
    "### Defining the model parameters\n",
    "\n",
    "You might need to adjust model `parameters` for different models or tasks, to do so please refer to documentation under `GenTextParamsMetaNames` class.\n",
    "\n",
    "**Action:** If any complications please refer to the [documentation](https://ibm.github.io/watson-machine-learning-sdk/).\n",
    "\n",
    "\n",
    "\n",
    "### ตั้งค่า parameters ของ model\n",
    "\n",
    "เราอาจต้องการ การปรับ `parameters` สำหรับ โมเดลที่ต่างกัน เพื่อทำประเภทของงานที่ต่างกัน สามารถอ่านข้อมูลเพิ่มเติมได้ที่ `GenTextParamsMetaNames` class\n",
    "[documentation](https://ibm.github.io/watson-machine-learning-sdk/foundation_models.html#metanames.GenTextParamsMetaNames)."
   ]
  },
  {
   "cell_type": "code",
   "execution_count": 58,
   "metadata": {
    "pycharm": {
     "name": "#%%\n"
    }
   },
   "outputs": [],
   "source": [
    "from ibm_watson_machine_learning.metanames import GenTextParamsMetaNames as GenParams\n",
    "from ibm_watson_machine_learning.foundation_models.utils.enums import DecodingMethods\n",
    "\n",
    "parameters = {\n",
    "    GenParams.MIN_NEW_TOKENS: 0,\n",
    "    GenParams.MAX_NEW_TOKENS: 1,\n",
    "    GenParams.DECODING_METHOD: DecodingMethods.GREEDY,\n",
    "    GenParams.REPETITION_PENALTY: 1\n",
    "}"
   ]
  },
  {
   "cell_type": "markdown",
   "metadata": {
    "pycharm": {
     "name": "#%% md\n"
    }
   },
   "source": [
    "### Initialize the model\n",
    "Initialize the `Model` class with previous set params.\n",
    "\n",
    "เลือก `Model` และตั้งค่า `parameters`"
   ]
  },
  {
   "cell_type": "code",
   "execution_count": 59,
   "metadata": {
    "pycharm": {
     "name": "#%%\n"
    }
   },
   "outputs": [],
   "source": [
    "from ibm_watson_machine_learning.foundation_models import Model\n",
    "\n",
    "model = Model(\n",
    "    model_id=model_id, \n",
    "    params=parameters, \n",
    "    credentials=credentials,\n",
    "    project_id=project_id)"
   ]
  },
  {
   "cell_type": "markdown",
   "metadata": {
    "pycharm": {
     "name": "#%% md\n"
    }
   },
   "source": [
    "### Model's details"
   ]
  },
  {
   "cell_type": "code",
   "execution_count": 60,
   "metadata": {
    "pycharm": {
     "name": "#%%\n"
    }
   },
   "outputs": [
    {
     "data": {
      "text/plain": [
       "{'model_id': 'ibm/granite-13b-chat-v1',\n",
       " 'label': 'granite-13b-chat-v1',\n",
       " 'provider': 'IBM',\n",
       " 'source': 'IBM',\n",
       " 'short_description': 'The Granite model series is a family of IBM-trained, dense decoder-only models, which are particularly well-suited for generative tasks.',\n",
       " 'long_description': 'Granite models are designed to be used for a wide range of generative and non-generative tasks with appropriate prompt engineering. They employ a GPT-style decoder-only architecture, with additional innovations from IBM Research and the open community.',\n",
       " 'task_ids': ['question_answering',\n",
       "  'summarization',\n",
       "  'classification',\n",
       "  'generation',\n",
       "  'extraction'],\n",
       " 'tasks': [{'id': 'question_answering', 'ratings': {'quality': 3}},\n",
       "  {'id': 'summarization', 'ratings': {'quality': 2}},\n",
       "  {'id': 'retrieval_augmented_generation', 'ratings': {'quality': 2}},\n",
       "  {'id': 'classification', 'ratings': {'quality': 3}},\n",
       "  {'id': 'generation'},\n",
       "  {'id': 'extraction', 'ratings': {'quality': 2}}],\n",
       " 'model_limits': {'max_sequence_length': 8192},\n",
       " 'limits': {'lite': {'call_time': '5m0s', 'max_output_tokens': 8192},\n",
       "  'v2-professional': {'call_time': '5m0s', 'max_output_tokens': 8192},\n",
       "  'v2-standard': {'call_time': '5m0s', 'max_output_tokens': 8192}},\n",
       " 'min_shot_size': 0,\n",
       " 'tier': 'class_2',\n",
       " 'number_params': '13b'}"
      ]
     },
     "execution_count": 60,
     "metadata": {},
     "output_type": "execute_result"
    }
   ],
   "source": [
    "model.get_details()"
   ]
  },
  {
   "cell_type": "markdown",
   "metadata": {
    "pycharm": {
     "name": "#%% md\n"
    }
   },
   "source": [
    "<a id=\"predict\"></a>\n",
    "## Analyze the satisfaction"
   ]
  },
  {
   "cell_type": "markdown",
   "metadata": {
    "collapsed": false,
    "jupyter": {
     "outputs_hidden": false
    },
    "pycharm": {
     "name": "#%% md\n"
    }
   },
   "source": [
    "#### Prepare prompt and generate text\n",
    "\n",
    "#### เตรียม prompt และ เริ่มสร้างคำ"
   ]
  },
  {
   "cell_type": "code",
   "execution_count": 61,
   "metadata": {
    "pycharm": {
     "name": "#%%\n"
    }
   },
   "outputs": [],
   "source": [
    "instruction = \"\"\"Determine if the customer was satisfied with the experience based on the comment. Return simple yes or no.\n",
    "Comment:The car was broken. They couldn't find a replacement. I've waster over 2 hours.\n",
    "Satisfied:no\"\"\""
   ]
  },
  {
   "cell_type": "code",
   "execution_count": 62,
   "metadata": {
    "collapsed": false,
    "jupyter": {
     "outputs_hidden": false
    },
    "pycharm": {
     "name": "#%%\n"
    }
   },
   "outputs": [
    {
     "name": "stdout",
     "output_type": "stream",
     "text": [
      "Determine if the customer was satisfied with the experience based on the comment. Return simple yes or no.\n",
      "Comment:The car was broken. They couldn't find a replacement. I've waster over 2 hours.\n",
      "Satisfied:no\n",
      "Comment:My last car rental was in Costa Rica.  There was lots of red tape associated with renting the car, it took almost an hour.  I don't usually experience that type of problem in the US.\n",
      "Satisfied:\n"
     ]
    }
   ],
   "source": [
    "prompt1 = \"\\n\".join([instruction, \"Comment:\" + comments[2], \"Satisfied:\"])\n",
    "print(prompt1)"
   ]
  },
  {
   "cell_type": "markdown",
   "metadata": {
    "pycharm": {
     "name": "#%% md\n"
    }
   },
   "source": [
    "Analyze the sentiment for a sample of zero-shot input from the test set."
   ]
  },
  {
   "cell_type": "code",
   "execution_count": 63,
   "metadata": {
    "collapsed": false,
    "jupyter": {
     "outputs_hidden": false
    },
    "pycharm": {
     "name": "#%%\n"
    }
   },
   "outputs": [
    {
     "name": "stdout",
     "output_type": "stream",
     "text": [
      "no\n"
     ]
    }
   ],
   "source": [
    "print(model.generate_text(prompt=prompt1))"
   ]
  },
  {
   "cell_type": "markdown",
   "metadata": {
    "collapsed": false,
    "jupyter": {
     "outputs_hidden": false
    },
    "pycharm": {
     "name": "#%% md\n"
    }
   },
   "source": [
    "### Calculate the accuracy"
   ]
  },
  {
   "cell_type": "code",
   "execution_count": 64,
   "metadata": {
    "collapsed": false,
    "jupyter": {
     "outputs_hidden": false
    },
    "pycharm": {
     "name": "#%%\n"
    }
   },
   "outputs": [],
   "source": [
    "sample_size = 10\n",
    "prompts_batch = [\"\\n\".join([instruction, \"Comment:\" + comment, \"Satisfied:\"]) for comment in comments[:10]]\n",
    "results = model.generate_text(prompt=prompts_batch)"
   ]
  },
  {
   "cell_type": "code",
   "execution_count": 65,
   "metadata": {
    "collapsed": false,
    "jupyter": {
     "outputs_hidden": false
    },
    "pycharm": {
     "name": "#%%\n"
    }
   },
   "outputs": [
    {
     "name": "stdout",
     "output_type": "stream",
     "text": [
      "Determine if the customer was satisfied with the experience based on the comment. Return simple yes or no.\n",
      "Comment:The car was broken. They couldn't find a replacement. I've waster over 2 hours.\n",
      "Satisfied:no\n",
      "Comment:They were helpful and accommodating when I wanted to change the color of the car.\n",
      "Satisfied:yes\n"
     ]
    }
   ],
   "source": [
    "print(prompts_batch[0] + results[0])"
   ]
  },
  {
   "cell_type": "code",
   "execution_count": 54,
   "metadata": {
    "collapsed": false,
    "jupyter": {
     "outputs_hidden": false
    },
    "pycharm": {
     "name": "#%%\n"
    }
   },
   "outputs": [
    {
     "name": "stdout",
     "output_type": "stream",
     "text": [
      "accuracy_score 0.8\n"
     ]
    }
   ],
   "source": [
    "from sklearn.metrics import accuracy_score\n",
    "\n",
    "label_map = {0: \"no\", 1: \"yes\"}\n",
    "y_true = [label_map[sat] for sat in satisfaction][:sample_size]\n",
    "\n",
    "print('accuracy_score', accuracy_score(y_true, results))"
   ]
  },
  {
   "cell_type": "code",
   "execution_count": 66,
   "metadata": {
    "collapsed": false,
    "jupyter": {
     "outputs_hidden": false
    },
    "pycharm": {
     "name": "#%%\n"
    }
   },
   "outputs": [
    {
     "name": "stdout",
     "output_type": "stream",
     "text": [
      "true ['no', 'no', 'no', 'no', 'yes', 'no', 'no', 'no', 'no', 'yes'] \n",
      "pred ['yes', 'no', 'no', 'yes', 'yes', 'no', 'yes', 'yes', 'no', 'no']\n"
     ]
    }
   ],
   "source": [
    "print('true', y_true, '\\npred', results)"
   ]
  },
  {
   "cell_type": "markdown",
   "metadata": {},
   "source": [
    "# Thai Language version"
   ]
  },
  {
   "cell_type": "markdown",
   "metadata": {},
   "source": [
    "We have shown how sentiment classification works for the English language, now we will also showcase the same for Thai language."
   ]
  },
  {
   "cell_type": "code",
   "execution_count": 67,
   "metadata": {},
   "outputs": [],
   "source": [
    "data_th = pd.read_csv('th_car_rental.csv')"
   ]
  },
  {
   "cell_type": "code",
   "execution_count": 68,
   "metadata": {},
   "outputs": [],
   "source": [
    "model_id = ModelTypes.LLAMA_2_70B_CHAT #(0.7)\n",
    "model = Model(\n",
    "    model_id=model_id, \n",
    "    params=parameters, \n",
    "    credentials=credentials,\n",
    "    project_id=project_id)"
   ]
  },
  {
   "cell_type": "code",
   "execution_count": 69,
   "metadata": {},
   "outputs": [],
   "source": [
    "# train, test = train_test_split(data_th, test_size=0.2)\n",
    "comments = list(data_th.Customer_Service_TH)\n",
    "satisfaction = list(data_th.Satisfaction)"
   ]
  },
  {
   "cell_type": "code",
   "execution_count": 70,
   "metadata": {},
   "outputs": [],
   "source": [
    "instruction = \"\"\"Determine if the customer was satisfied with the experience based on the comment. Return simple yes or no.\n",
    "Comment: การบริการลูกค้าก็ดี พวกเขาสามารถอัพเกรดชั้นเรียนถัดไปให้ฉันได้ในราคา $2 ต่อวัน...นั่นเป็นสิ่งที่ดี\n",
    "Satisfied:yes\n",
    "Comment: พวกเขามีรถคลาสที่ฉันสั่ง\n",
    "Satisfied:yes\n",
    "Comment: มันสบายดี\n",
    "Satisfied:yes\n",
    "Comment: ต่อแถวยาวเพื่อรอรับการเช่า\n",
    "Satisfied:no\n",
    "Comment: ราคาสูงเกินไปและทำเลอยู่นอกสถานที่ไกลเกินไป\n",
    "Satisfied:no\n",
    "Comment: ยังไม่ได้เช่ารถตั้งแต่เดือนตุลาคมปีที่แล้ว บริการลูกค้าได้ดี มีบริการรถรับส่งไปและกลับจากสนามบิน การมารับตามกำหนดเวลานั้นตรงเวลาและพวกเขาก็พบพัสดุที่เราทิ้งไว้ในรถและนำไปที่รถรับส่งด้วย\n",
    "Satisfied:yes\n",
    "Comment: ไม่มีปัญหา\n",
    "Satisfied:yes\n",
    "Comment: พนักงานก็น่าพอใจมาก ให้แผนที่/เส้นทางไปยังโรงแรมของฉัน\n",
    "Satisfied:yes\n",
    "Comment: มีปัญหาบางอย่าง รถของฉันไม่พร้อมตรงเวลา\n",
    "Satisfied:no\n",
    "Comment: การบริการลูกค้าก็ดี พวกเขาสามารถอัพเกรดชั้นเรียนถัดไปให้ฉันได้ในราคา $2 ต่อวัน...นั่นเป็นสิ่งที่ดี\n",
    "Satisfied:yes\n",
    "\"\"\""
   ]
  },
  {
   "cell_type": "code",
   "execution_count": 71,
   "metadata": {},
   "outputs": [
    {
     "name": "stdout",
     "output_type": "stream",
     "text": [
      "Determine if the customer was satisfied with the experience based on the comment. Return simple yes or no.\n",
      "Comment: การบริการลูกค้าก็ดี พวกเขาสามารถอัพเกรดชั้นเรียนถัดไปให้ฉันได้ในราคา $2 ต่อวัน...นั่นเป็นสิ่งที่ดี\n",
      "Satisfied:yes\n",
      "Comment: พวกเขามีรถคลาสที่ฉันสั่ง\n",
      "Satisfied:yes\n",
      "Comment: มันสบายดี\n",
      "Satisfied:yes\n",
      "Comment: ต่อแถวยาวเพื่อรอรับการเช่า\n",
      "Satisfied:no\n",
      "Comment: ราคาสูงเกินไปและทำเลอยู่นอกสถานที่ไกลเกินไป\n",
      "Satisfied:no\n",
      "Comment: ยังไม่ได้เช่ารถตั้งแต่เดือนตุลาคมปีที่แล้ว บริการลูกค้าได้ดี มีบริการรถรับส่งไปและกลับจากสนามบิน การมารับตามกำหนดเวลานั้นตรงเวลาและพวกเขาก็พบพัสดุที่เราทิ้งไว้ในรถและนำไปที่รถรับส่งด้วย\n",
      "Satisfied:yes\n",
      "Comment: ไม่มีปัญหา\n",
      "Satisfied:yes\n",
      "Comment: พนักงานก็น่าพอใจมาก ให้แผนที่/เส้นทางไปยังโรงแรมของฉัน\n",
      "Satisfied:yes\n",
      "Comment: มีปัญหาบางอย่าง รถของฉันไม่พร้อมตรงเวลา\n",
      "Satisfied:no\n",
      "Comment: การบริการลูกค้าก็ดี พวกเขาสามารถอัพเกรดชั้นเรียนถัดไปให้ฉันได้ในราคา $2 ต่อวัน...นั่นเป็นสิ่งที่ดี\n",
      "Satisfied:yes\n",
      "\n",
      "Comment:ฉันไม่ได้รับรถที่ฉันบอกว่าจะว่าง มีค่าธรรมเนียมซ่อนเร้นเพิ่มเติมจากราคาที่ฉันเสนอมา\n",
      "Satisfied:\n"
     ]
    }
   ],
   "source": [
    "prompt1 = \"\\n\".join([instruction, \"Comment:\" + comments[3], \"Satisfied:\"])\n",
    "print(prompt1)"
   ]
  },
  {
   "cell_type": "code",
   "execution_count": 72,
   "metadata": {},
   "outputs": [
    {
     "name": "stdout",
     "output_type": "stream",
     "text": [
      "no\n"
     ]
    }
   ],
   "source": [
    "print(model.generate_text(prompt=prompt1))"
   ]
  },
  {
   "cell_type": "code",
   "execution_count": 73,
   "metadata": {},
   "outputs": [],
   "source": [
    "sample_size = 10\n",
    "prompts_batch = [\"\\n\".join([instruction, \"Comment:\" + comment, \"Satisfied:\"]) for comment in comments[:10]]\n",
    "results = model.generate_text(prompt=prompts_batch)"
   ]
  },
  {
   "cell_type": "code",
   "execution_count": 74,
   "metadata": {},
   "outputs": [
    {
     "name": "stdout",
     "output_type": "stream",
     "text": [
      "accuracy_score 0.8\n"
     ]
    }
   ],
   "source": [
    "label_map = {0: \"no\", 1: \"yes\"}\n",
    "y_true = [label_map[sat] for sat in satisfaction][:sample_size]\n",
    "\n",
    "print('accuracy_score', accuracy_score(y_true, results))"
   ]
  },
  {
   "cell_type": "markdown",
   "metadata": {
    "pycharm": {
     "name": "#%% md\n"
    }
   },
   "source": [
    "<a id=\"summary\"></a>\n",
    "## Summary and next steps\n",
    "\n",
    " You successfully completed this notebook!.\n",
    " \n",
    " You learned how to analyze car rental customer satisfaction with watsonx.ai foundation model.\n",
    " \n",
    " Check out our _[Online Documentation]()_ for more samples, tutorials, documentation, how-tos, and blog posts. "
   ]
  },
  {
   "cell_type": "markdown",
   "metadata": {
    "pycharm": {
     "name": "#%% md\n"
    }
   },
   "source": [
    "### Authors\n",
    "\n",
    "**Mateusz Szewczyk**, Software Engineer at Watson Machine Learning.\n",
    "\n",
    "**Lukasz Cmielowski**, PhD, is an Automation Architect and Data Scientist at IBM with a track record of developing enterprise-level applications that substantially increases clients' ability to turn data into actionable knowledge."
   ]
  },
  {
   "cell_type": "markdown",
   "metadata": {
    "pycharm": {
     "name": "#%% md\n"
    }
   },
   "source": [
    "Copyright © 2023 IBM. This notebook and its source code are released under the terms of the MIT License."
   ]
  }
 ],
 "metadata": {
  "kernelspec": {
   "display_name": "Python 3 (ipykernel)",
   "language": "python",
   "name": "python3"
  },
  "language_info": {
   "codemirror_mode": {
    "name": "ipython",
    "version": 3
   },
   "file_extension": ".py",
   "mimetype": "text/x-python",
   "name": "python",
   "nbconvert_exporter": "python",
   "pygments_lexer": "ipython3",
   "version": "3.11.5"
  }
 },
 "nbformat": 4,
 "nbformat_minor": 4
}
