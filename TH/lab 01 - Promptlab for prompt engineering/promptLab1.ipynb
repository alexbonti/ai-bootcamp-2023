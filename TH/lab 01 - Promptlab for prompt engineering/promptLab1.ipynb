{
 "cells": [
  {
   "cell_type": "code",
   "execution_count": 1,
   "id": "f3e5b192-117f-49b6-aea1-b4aa5c341ed4",
   "metadata": {},
   "outputs": [],
   "source": [
    "import os\n",
    "import json\n",
    "from dotenv import load_dotenv\n",
    "from ibm_watson_machine_learning.foundation_models import Model\n",
    "from ibm_watson_machine_learning.metanames import GenTextParamsMetaNames as GenParams\n"
   ]
  },
  {
   "cell_type": "code",
   "execution_count": 2,
   "id": "03a393d8-7628-41ac-a8b1-5f953a605fd4",
   "metadata": {},
   "outputs": [],
   "source": [
    "API_KEY=''\n",
    "IBM_CLOUD_URL=''\n",
    "PROJECT_ID=''"
   ]
  },
  {
   "cell_type": "code",
   "execution_count": 3,
   "id": "d864d5c6-b161-44c7-b4fb-9e304b04c519",
   "metadata": {},
   "outputs": [],
   "source": [
    "#config Watsonx.ai environment\n",
    "load_dotenv()\n",
    "api_key = API_KEY\n",
    "ibm_cloud_url = IBM_CLOUD_URL\n",
    "project_id = PROJECT_ID\n",
    "if api_key is None or ibm_cloud_url is None or project_id is None:\n",
    "    raise Exception(\"Ensure you copied the .env file that you created earlier into the same directory as this notebook\")\n",
    "else:\n",
    "    creds = {\n",
    "        \"url\": ibm_cloud_url,\n",
    "        \"apikey\": api_key \n",
    "    }"
   ]
  },
  {
   "cell_type": "code",
   "execution_count": 9,
   "id": "6d3fd805-957d-4434-bc56-47fe1f6aa5a5",
   "metadata": {},
   "outputs": [],
   "source": [
    "def send_to_watsonxai(prompts,\n",
    "                    model_name=\"google/flan-ul2\",\n",
    "                    decoding_method=\"greedy\",\n",
    "                    max_new_tokens=200,\n",
    "                    min_new_tokens=30,\n",
    "                    temperature=1.0,\n",
    "                    repetition_penalty=1.0\n",
    "                    ):\n",
    "    '''\n",
    "   helper function for sending prompts and params to Watsonx.ai\n",
    "    \n",
    "    Args:  \n",
    "        prompts:list list of text prompts\n",
    "        decoding:str Watsonx.ai parameter \"sample\" or \"greedy\"\n",
    "        max_new_tok:int Watsonx.ai parameter for max new tokens/response returned\n",
    "        temperature:float Watsonx.ai parameter for temperature (range 0>2)\n",
    "        repetition_penalty:float Watsonx.ai parameter for repetition penalty (range 1.0 to 2.0)\n",
    "\n",
    "    Returns: None\n",
    "        prints response\n",
    "    '''\n",
    "\n",
    "    assert not any(map(lambda prompt: len(prompt) < 1, prompts)), \"make sure none of the prompts in the inputs prompts are empty\"\n",
    "\n",
    "    # Instantiate parameters for text generation\n",
    "    model_params = {\n",
    "        GenParams.DECODING_METHOD: decoding_method,\n",
    "        GenParams.MIN_NEW_TOKENS: min_new_tokens,\n",
    "        GenParams.MAX_NEW_TOKENS: max_new_tokens,\n",
    "        GenParams.RANDOM_SEED: 42,\n",
    "        GenParams.TEMPERATURE: temperature,\n",
    "        GenParams.REPETITION_PENALTY: repetition_penalty,\n",
    "    }\n",
    "\n",
    "\n",
    "    # Instantiate a model proxy object to send your requests\n",
    "    model = Model(\n",
    "        model_id=model_name,\n",
    "        params=model_params,\n",
    "        credentials=creds,\n",
    "        project_id=project_id)\n",
    "\n",
    "    output = []\n",
    "    for prompt in prompts:\n",
    "        o = model.generate_text(prompt)\n",
    "        output.append(o)\n",
    "        # print(o)\n",
    "    return output"
   ]
  },
  {
   "cell_type": "code",
   "execution_count": 16,
   "id": "d1449d70-4622-4d32-b16b-81af95d16155",
   "metadata": {},
   "outputs": [],
   "source": [
    "llama2c = \"meta-llama/llama-2-70b-chat\"\n",
    "llama2 = \"meta-llama/llama-2-70b\"\n",
    "granite=\"ibm/granite-13b-chat-v1\""
   ]
  },
  {
   "cell_type": "markdown",
   "id": "10343a2e-1848-454a-8dbd-984e34a574d1",
   "metadata": {},
   "source": [
    "# CLassification Zero shot learning"
   ]
  },
  {
   "cell_type": "code",
   "execution_count": 36,
   "id": "e10fdfd0-6d83-4942-aab4-6db1c39b236d",
   "metadata": {},
   "outputs": [],
   "source": [
    "text = '''\n",
    "ผมมีสัญญาเงินกู้บ้านกับ Wells Fargo มาหลายปีแล้ว จ่ายทุกเดือนเร็วอย่างน้อย 7-10 วัน ระหว่าง XX/XX/XXXX และ XX/XX/XXXX ผมจ่าย {$3000.00} ทุกเดือน \n",
    "ในปี XXXX ผมได้รับโทรศัพท์จาก Wells Fargo ว่าการชำระเงินรายเดือนของฉันไม่ถูกต้อง หลังจากการสนทนายาวนาน ฉันยอมจ่ายเพิ่มเติม {$750.00} \n",
    "เพื่อทำให้บัญชีปัจจุบันและชำระ $ XXXX ต่อไป ในวันที่ XX/XX/XXXX ฉันได้รับจดหมายจาก XXXX \n",
    "ว่าสัญญาเงินกู้ของฉันอยู่ในสถานะเริ่มต้นและแนะนำให้ฉันดำเนินการทันที หลังจากการสนทนายาวนาน \n",
    "ฉันคุ้นเคยว่าในวันที่ XX/XX/XXXX ธนาคารได้รับการชำระเงินของฉันเช่นเคย แต่เนื่องจากจำนวนเงินน้อยกว่าที่พวกเขาต้องการ \n",
    "พวกเขาไม่ได้จ่ายสัญญาเงินกู้ของฉัน แต่พวกเขาได้นำจำนวนเงินทั้งหมดไปชำระเงินต้น พวกเขาไม่เคยบอกฉัน \n",
    "พวกเขาได้รายงานข้อมูลของฉันให้กับหน่วยงานเครดิต \n",
    "'''"
   ]
  },
  {
   "cell_type": "markdown",
   "id": "d84274d3-7278-4f44-acc6-3b8ab1aae3d2",
   "metadata": {},
   "source": [
    "## Sentiment analysis"
   ]
  },
  {
   "cell_type": "code",
   "execution_count": 18,
   "id": "00c70681-8551-4cf2-b645-2095b2442467",
   "metadata": {},
   "outputs": [],
   "source": [
    "#Q1 Code - enter prompt and parameters in this cell\n",
    "\n",
    "system_prompt = \"\"\"\n",
    "You are the sentiment analysis program which return json format {\"result\":\"positive\"} or {\"result\": \"negative\"}, \n",
    "You must answer only json format withou any explanation, \n",
    "Output Schema: schema = {\n",
    "      \"type\": \"object\",\n",
    "      \"properties\": {\n",
    "        \"result\": \"string\"\n",
    "            }\n",
    "        }\n",
    "        \"\"\"\n",
    "review = text\n",
    "user_message = f\"Please do sentiment analysis of this review for me ```{review}```\"\n",
    "\n",
    "llama2_prompt = f\"\"\"\n",
    "    <s>[INST] <<SYS>>\n",
    "        {{\n",
    "        {system_prompt}\n",
    "        }}\n",
    "    <</SYS>>\n",
    "        {{\n",
    "        {text}\n",
    "        }}\n",
    "        [/INST]\n",
    "\"\"\"\n",
    "#Complete your prompt here \n",
    "\n",
    "response = send_to_watsonxai(prompts=[llama2_prompt],\n",
    "                            model_name=granite\n",
    "                            )\n",
    "\n",
    "responseC = send_to_watsonxai(prompts=[llama2_prompt],\n",
    "                            model_name=llama2c\n",
    "                            )\n",
    "\n",
    "# Remember to try changing the model and/or using non-default parameters to achieve your goal when prompting isn't enough\n",
    "# response = send_to_watsonxai(prompts=[prompt], model_name=\"google/flan-ul2\", decoding_method=\"greedy\", max_new_tokens=100,\n",
    "#                              min_new_tokens=30, temperature=1.0, repetition_penalty=2.0)\n"
   ]
  },
  {
   "cell_type": "code",
   "execution_count": 21,
   "id": "090f1329-50ce-4134-b058-7a073325381a",
   "metadata": {},
   "outputs": [
    {
     "name": "stdout",
     "output_type": "stream",
     "text": [
      "['        ]\\n        <s>\\n{\"result\": \"negative\"}</s>\\n        ]\\n        <s>\\n{\"result\": \"negative\"}</s>\\n        ]<|endoftext|>']\n",
      "['        {\\n  \"result\": \"negative\"\\n}\\n\\nExplanation:\\n\\nThe text expresses frustration and disappointment with Wells Fargo\\'s handling of the person\\'s loan. The person mentions that they have been making payments on time for many years, but Wells Fargo has not been applying the payments correctly, causing the person\\'s account to be in arrears. The person also mentions that they have been trying to resolve the issue']\n"
     ]
    }
   ],
   "source": [
    "print(response)\n",
    "print(responseC)"
   ]
  },
  {
   "cell_type": "markdown",
   "id": "e346b489-7a64-4570-8f21-2d6709487779",
   "metadata": {},
   "source": [
    "## Classification"
   ]
  },
  {
   "cell_type": "code",
   "execution_count": 37,
   "id": "e9cb0c8c-0132-42bc-a1d4-ec539fd51621",
   "metadata": {},
   "outputs": [],
   "source": [
    "instruction= '''\n",
    "บทความต่อไปนี้เป็นการร้องเรียนของผู้บริโภค \n",
    "การร้องเรียนเกี่ยวกับหนึ่งในตัวเลือกเหล่านี้: บัตรเครดิต, รายงานเครดิต, สินเชื่อที่จดทะเบียนและสินเชื่อ, ธนาคารขายปลีก, หรือการค้าสินทรัพย์ \n",
    "โปรดอ่านย่อด้านล่างและกำหนดว่าการร้องเรียนนี้เกี่ยวข้องกับตัวเลือกใด.\n",
    "'''\n",
    "\n",
    "\n",
    "system_prompt = \"\"\"\n",
    "You are the sentence topic classifier can understand Thai.\n",
    "Given only 5 classes that you have to classify the input sentence: [credit cards, credit reporting, mortgages and loans, retail banking, debt collection].\n",
    "Example output: ['mortgages and loans']\n",
    "Example output: ['credit cards']\n",
    "Example output: ['credit reporting']\n",
    "Example output: ['retail banking']\n",
    "Example output: ['debt collection']\n",
    "Classify the input sentence into only 1 class less than 10 words\n",
    "\n",
    "\n",
    "        \"\"\"\n",
    "user_message = f\"Please do classify review for me ```{text}```\"\n",
    "\n",
    "llama2_prompt = f\"\"\"\n",
    "    <s>[INST] <<SYS>>\n",
    "        {{\n",
    "        {system_prompt}\n",
    "        }}\n",
    "    <</SYS>>\n",
    "        {{\n",
    "        {text}\n",
    "        }}\n",
    "        [/INST]\n",
    "\"\"\"\n",
    "\n",
    "response = send_to_watsonxai(prompts=[llama2_prompt],\n",
    "                            model_name=granite\n",
    "                            )\n",
    "\n",
    "responseC = send_to_watsonxai(prompts=[llama2_prompt],\n",
    "                            model_name=llama2c\n",
    "                            )"
   ]
  },
  {
   "cell_type": "code",
   "execution_count": 39,
   "id": "104ced98-c131-4cb3-8d69-9c9ae09810f4",
   "metadata": {},
   "outputs": [
    {
     "name": "stdout",
     "output_type": "stream",
     "text": [
      "[\"        Based on the given input sentence, the topic can be classified into the following category:\\n\\n* Mortgages and loans\\n\\nThe sentence discusses the person's experience with a mortgage loan from Wells Fargo, including the loan amount, payment schedule, and issues with the loan servicer. Therefore, it falls under the category of mortgages and loans.\"]\n"
     ]
    }
   ],
   "source": [
    "# print(response)\n",
    "print(responseC)"
   ]
  },
  {
   "cell_type": "markdown",
   "id": "32598531-ced6-4cd0-bb04-d99d912bdada",
   "metadata": {},
   "source": [
    "# Oneshot learning"
   ]
  },
  {
   "cell_type": "code",
   "execution_count": 51,
   "id": "7a9947d6-2c4f-4320-a81d-49c04bc2bed6",
   "metadata": {},
   "outputs": [],
   "source": [
    "text = '''\n",
    "วันนี้ฉันจ่ายเงิน 500 บาท ที่ธนาคารกรุงไทย โดยใช้หมายเลขโทรศัพท์ 099221xxyy ให้กับนายชนาธิ ณัฐวุฒิ\n",
    "'''"
   ]
  },
  {
   "cell_type": "code",
   "execution_count": 52,
   "id": "0e4dc330-c105-4f35-a221-8b78b22b7ccc",
   "metadata": {},
   "outputs": [],
   "source": [
    "system_prompt = \"\"\"\n",
    "You are the sentence entity extractor that can understand Thai.\n",
    "You have to follow the example\n",
    "        \"\"\"\n",
    "\n",
    "example_entity = \"\"\"\n",
    "sentence: ฉันถอนเงิน 100 บาท จากธนาคารไทยพาณิชย์ ด้วยเบอร์ 0649611111 สมชาย\n",
    "entity: {\n",
    "  \"Amount\": \"100 บาท\",\n",
    "  \"Bank Name\": \"ธนาคารไทยพาณิชย์\",\n",
    "  \"Phone Number\": \"0649611111\",\n",
    "  \"Name\": \"สมชาย\"\n",
    "}\n",
    "\n",
    "\"\"\"\n",
    "\n",
    "\n",
    "\n",
    "\n",
    "user_message = f\"Please do extract entities for me ```{text}```\"\n",
    "\n",
    "llama2_prompt = f\"\"\"\n",
    "    <s>[INST] <<SYS>>\n",
    "        {{\n",
    "        {system_prompt}\n",
    "        EXAMPLE:\n",
    "        {example_entity}\n",
    "        }}\n",
    "        \n",
    "    <</SYS>>\n",
    "        {{\n",
    "        {text}\n",
    "        }}\n",
    "        [/INST]\n",
    "\"\"\"\n",
    "\n",
    "response = send_to_watsonxai(prompts=[llama2_prompt],\n",
    "                            model_name=granite\n",
    "                            )\n",
    "\n",
    "responseC = send_to_watsonxai(prompts=[llama2_prompt],\n",
    "                            model_name=llama2c\n",
    "                            )"
   ]
  },
  {
   "cell_type": "code",
   "execution_count": 53,
   "id": "40e88074-cbec-41c5-821c-9160426eebeb",
   "metadata": {},
   "outputs": [
    {
     "name": "stdout",
     "output_type": "stream",
     "text": [
      "['        {\\n  \"Amount\": \"500 บาท\",\\n  \"Bank Name\": \"ธนาคารกรุงไทย\",\\n  \"Phone Number\": \"099221xxyy\",\\n  \"Name\": \"นายชนาธิ ณัฐวุฒิ\"\\n}']\n",
      " \n",
      "['        {\\n        \"Amount\": \"500 บาท\",\\n        \"Bank Name\": \"กรุงไทย\",\\n        \"Phone Number\": \"099221xxyy\",\\n        \"Name\": \"นายชนาธิ\"\\n}<|endoftext|>']\n"
     ]
    }
   ],
   "source": [
    "print(responseC)\n",
    "print(\" \")\n",
    "print(response)"
   ]
  },
  {
   "cell_type": "markdown",
   "id": "7f13f2fc-29f7-4e4a-a345-e1191547dc63",
   "metadata": {},
   "source": [
    "## Two shot learning"
   ]
  },
  {
   "cell_type": "code",
   "execution_count": 72,
   "id": "e571d00e-1a3e-4ab6-8c9f-92e1715ce211",
   "metadata": {},
   "outputs": [],
   "source": [
    "text2 = \"\"\" สวัสดี ฉันชื่อ ราวี ดูเบ ฉันมาเขียนถึงคุณเพื่อรายงานรายการทำรายการที่ไม่ได้รับอนุญาตบนบัตรเครดิตของฉันครับ\n",
    "เมื่อวันที่ 30 มีนาคม 2023 ฉันสังเกตรายการชาร์จ 1,000 ดอลลาร์ในรายการบัตรเครดิตของฉันที่ไม่ได้รับอนุญาตในวันนั้น ธุรกรรมนี้ทำการที่ร้านอาหารในนิวยอร์ก \n",
    "ในขณะที่ฉันอยู่ในแคลิฟอร์เนียในวันนั้นครับ ฉันกังวลเกี่ยวกับความปลอดภัยของบัญชีของฉันและฉันคิดว่านี่ควรจะได้รับการตรวจสอบโดยด่วนครับ\n",
    "โปรดติดต่อฉันที่หมายเลขโทรศัพท์ 123-456-7890 หรืออีเมลที่ ravi.dube@email.com เพื่อให้ข้อมูลปรับปรุงเกี่ยวกับการสืบสวนครับ\n",
    "ธนาคาร Tisco หมายเลขบัตรเครดิตของฉันคือ 3572267594198019 และหมายเลขประจำตัวประชาชนของฉันคือ 175-43-9027 ฉันยังคาดหวังที่จะได้รับข้อมูลจากคุณเร็ว ๆ นี้ครับ\n",
    "\"\"\"\n"
   ]
  },
  {
   "cell_type": "code",
   "execution_count": 73,
   "id": "19e69278-114b-483e-aa59-293e741e7fa0",
   "metadata": {},
   "outputs": [],
   "source": [
    "example_entity2 = \"\"\"\n",
    "sentence: ขอบคุณที่ติดต่อกับฉันครับ บัตรเครดิตของฉันถูกยกเลิกเมื่อฉันอยู่ในต่างประเทศเป็นวันหยุดครับ หมายเลขบัตรเครดิตของฉันคือ 39482374859 และชื่อบัญชีของฉันคือ ฟิล สมิธ และที่อยู่ของฉันคือ 34 ซิตีเวล, เมลเบิร์น, 3000 วิซซาดีครับ วิธีการติดต่อที่ฉันชอบคืออีเมล: phil.smith@email.com ครับ\n",
    "entity: {\n",
    "  \"Credit Card Number\": \"39482374859\",\n",
    "  \"Account Name\": \"ฟิล สมิธ\",\n",
    "  \"Address\": \"34 ซิตีเวล, เมลเบิร์น, 3000 วิซซาดี\",\n",
    "  \"Email\": \"phil.smith@email.com\"\n",
    "}\n",
    "\"\"\""
   ]
  },
  {
   "cell_type": "code",
   "execution_count": 74,
   "id": "43fc5cea-9c6f-4f50-ab7a-37d32b2cde6c",
   "metadata": {},
   "outputs": [],
   "source": [
    "user_message = f\"Please do extract entities for me ```{text2}```\"\n",
    "\n",
    "system_prompt = \"\"\"\n",
    "You are the sentence entity extractor that can understand Thai.\n",
    "You have to follow the output JSON format\n",
    "        \"\"\"\n",
    "\n",
    "llama2_prompt = f\"\"\"\n",
    "    <s>[INST] <<SYS>>\n",
    "        {{\n",
    "        {system_prompt}\n",
    "        EXAMPLE1:\n",
    "        {example_entity}\n",
    "        EXAMPLE2:\n",
    "        {example_entity2}\n",
    "\n",
    "        }}\n",
    "        \n",
    "    <</SYS>>\n",
    "        {{\n",
    "        sentence:\n",
    "        {text2}\n",
    "        entity:\n",
    "        }}\n",
    "        [/INST]\n",
    "\"\"\"\n",
    "\n",
    "response = send_to_watsonxai(prompts=[llama2_prompt],\n",
    "                            model_name=granite\n",
    "                            )\n",
    "\n",
    "responseC = send_to_watsonxai(prompts=[llama2_prompt],\n",
    "                            model_name=llama2c,\n",
    "                              max_new_tokens=250\n",
    "                            )"
   ]
  },
  {
   "cell_type": "code",
   "execution_count": 75,
   "id": "500d6d82-afea-4aff-a76a-e1c67781e644",
   "metadata": {},
   "outputs": [
    {
     "name": "stdout",
     "output_type": "stream",
     "text": [
      "Granite\n",
      "['        {\\n        \"Name\": \"สวัสดี\",\\n        \"Amount\": \"1,000 ดอลลาร์\",\\n        \"Bank Name\": \"Tisco\",\\n        \"Phone Number\": \"3572267594198019\",\\n        \"Email\": \"ravi.dube@email.com\"\\n}<|endoftext|>']\n",
      "llama\n",
      "['    {\\n  \"Amount\": \"1,000 ดอลลาร์\",\\n  \"Bank Name\": \"ธนาคาร Tisco\",\\n  \"Phone Number\": \"123-456-7890\",\\n  \"Email\": \"ravi.dube@email.com\",\\n  \"Credit Card Number\": \"3572267594198019\",\\n  \"National ID Number\": \"175-43-9027\"\\n}\\n\\nIs there anything else I can help you with?']\n"
     ]
    }
   ],
   "source": [
    "print('Granite')\n",
    "print(response)\n",
    "print('llama')\n",
    "print(responseC)"
   ]
  },
  {
   "cell_type": "code",
   "execution_count": null,
   "id": "41d887bf-1245-4ecf-a978-79c8d3e10e06",
   "metadata": {},
   "outputs": [],
   "source": []
  }
 ],
 "metadata": {
  "kernelspec": {
   "display_name": "Python 3 (ipykernel)",
   "language": "python",
   "name": "python3"
  },
  "language_info": {
   "codemirror_mode": {
    "name": "ipython",
    "version": 3
   },
   "file_extension": ".py",
   "mimetype": "text/x-python",
   "name": "python",
   "nbconvert_exporter": "python",
   "pygments_lexer": "ipython3",
   "version": "3.10.13"
  }
 },
 "nbformat": 4,
 "nbformat_minor": 5
}
